{
 "cells": [
  {
   "cell_type": "markdown",
   "metadata": {},
   "source": [
    "# 1.1.2 연습문제\n",
    "## 주피터 노트북을 하나 만들고 인라인 수식과 디스플레이 수식으로 알파부터 오메가까지 써본다\n",
    "### 인라인\n",
    "- 알파: $\\alpha$ \n",
    "- 베타: $\\beta$ \n",
    "- 감마: $\\gamma$ \n",
    "- 델타: $\\delta$ \n",
    "- 엡실론: $\\epsilon$ \n",
    "- 제타: $\\zeta$ \n",
    "- 에타: $\\eta$ \n",
    "- 쎄타: $\\theta$ \n",
    "- 카파: $\\kappa$ \n",
    "- 람다: $\\lambda$ \n",
    "- 뮤: $\\mu$ \n",
    "- 누: $\\nu$ \n",
    "- 크사이: $\\xi$ \n",
    "- 파이: $\\pi$ \n",
    "- 로: $\\rho$ \n",
    "- 시그마: $\\sigma$ \n",
    "- 타우: $\\tau$ \n",
    "- 파이: $\\phi$ \n",
    "- 카이: $\\chi$ \n",
    "- 프사이: $\\psi$ \n",
    "- 오메가: $\\omega$\n",
    "\n",
    "### 디스플레이\n",
    "$$\n",
    "알파: \\alpha \\\\\n",
    "베타: \\beta \\\\\n",
    "감마: \\gamma \\\\\n",
    "델타: \\delta \\\\\n",
    "엡실론: \\epsilon \\\\\n",
    "제타: \\zeta \\\\\n",
    "에타: \\eta \\\\\n",
    "쎄타: \\theta \\\\\n",
    "카파: \\kappa \\\\\n",
    "람다: \\lambda \\\\\n",
    "뮤: \\mu \\\\\n",
    "누: \\nu \\\\\n",
    "크사이: \\xi \\\\\n",
    "파이: \\pi \\\\\n",
    "로: \\rho \\\\\n",
    "시그마: \\sigma \\\\\n",
    "타우: \\tau \\\\\n",
    "파이: \\phi \\\\\n",
    "카이: \\chi \\\\\n",
    "프사이: \\psi \\\\\n",
    "오메가: \\omega\n",
    "$$"
   ]
  },
  {
   "cell_type": "markdown",
   "metadata": {},
   "source": [
    "# 1.2.1 연습문제\n",
    "## 다음 수식을 풀어 써라. 이 수식들은 이후에 머신러닝 모형에 등장할 수식이다.\n",
    "### 1. 이 식은 분류 모형중의 하나인 서포트 벡터 머신(support vector machine) 모형에 나온다\n",
    "$$ \\sum_{i=1}^3 \\sum_{j=1}^3 a_i a_j y_i y_j x_i x_j $$\n",
    "$$ = \\sum_{i=1}^3 ({a_i a_1 y_i y_1 x_i x_1}+{a_i a_2 y_i y_2 x_i x_2}+{a_i a_3 y_i y_3 x_i x_3}) $$\n",
    "$$ = ((a_1 a_1 y_1 y_1 x_1 x_1) + (a_1 a_2 y_1 y_2 x_1 x_2) + (a_1 a_3 y_1 y_3 x_1 x_3)) + ((a_2 a_1 y_2 y_1 x_2 x_1) + (a_2 a_2 y_2 y_2 x_2 x_2) + (a_2 a_3 y_2 y_3 x_2 x_3)) + ((a_3 a_1 y_3 y_1 x_3 x_1) + (a_3 a_2 y_3 y_2 x_3 x_2) + (a_3 a_3 y_3 y_3 x_3 x_3)) $$\n",
    "$$ = (a_1 y_1 x_1)^2 + (a_2 y_2 x_2)^2 + (a_3 y_3 x_3)^2 + 2({a_1 a_2 y_1 y_2 x_1 x_2} + {a_1 a_3 y_1 y_3 x_1 x_3} + {a_2 a_3 y_2 y_3 x_2 x_3})$$\n",
    "\n",
    "### 2. 이 식은 특잇값분해(singular value decomposition)에 나온다."
   ]
  }
 ],
 "metadata": {
  "kernelspec": {
   "display_name": "Python 3",
   "language": "python",
   "name": "python3"
  },
  "language_info": {
   "codemirror_mode": {
    "name": "ipython",
    "version": 3
   },
   "file_extension": ".py",
   "mimetype": "text/x-python",
   "name": "python",
   "nbconvert_exporter": "python",
   "pygments_lexer": "ipython3",
   "version": "3.6.3"
  }
 },
 "nbformat": 4,
 "nbformat_minor": 2
}
